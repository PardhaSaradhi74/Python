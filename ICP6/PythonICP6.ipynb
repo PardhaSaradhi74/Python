{
  "nbformat": 4,
  "nbformat_minor": 0,
  "metadata": {
    "kernelspec": {
      "display_name": "Python 3",
      "language": "python",
      "name": "python3"
    },
    "language_info": {
      "codemirror_mode": {
        "name": "ipython",
        "version": 3
      },
      "file_extension": ".py",
      "mimetype": "text/x-python",
      "name": "python",
      "nbconvert_exporter": "python",
      "pygments_lexer": "ipython3",
      "version": "3.7.6"
    },
    "colab": {
      "name": "PythonICP6.ipynb",
      "provenance": [],
      "include_colab_link": true
    }
  },
  "cells": [
    {
      "cell_type": "markdown",
      "metadata": {
        "id": "view-in-github",
        "colab_type": "text"
      },
      "source": [
        "<a href=\"https://colab.research.google.com/github/PardhaSaradhi74/Python/blob/master/ICP6/PythonICP6.ipynb\" target=\"_parent\"><img src=\"https://colab.research.google.com/assets/colab-badge.svg\" alt=\"Open In Colab\"/></a>"
      ]
    },
    {
      "cell_type": "markdown",
      "metadata": {
        "id": "GI5S6oIoWcz-",
        "colab_type": "text"
      },
      "source": [
        "Importing Libraries"
      ]
    },
    {
      "cell_type": "code",
      "metadata": {
        "id": "1TIczBnbWcz_",
        "colab_type": "code",
        "colab": {}
      },
      "source": [
        "from sklearn.cluster import KMeans \n",
        "from sklearn import metrics \n",
        "import pandas as pd\n",
        "import numpy as np \n",
        "import matplotlib.pyplot as plt "
      ],
      "execution_count": 1,
      "outputs": []
    },
    {
      "cell_type": "code",
      "metadata": {
        "id": "D6-ELdJ7WkIQ",
        "colab_type": "code",
        "colab": {
          "base_uri": "https://localhost:8080/",
          "height": 122
        },
        "outputId": "da6e623c-474c-48e4-a4b5-1051b5a5b4c4"
      },
      "source": [
        "from google.colab import drive\n",
        "drive.mount('/content/drive')"
      ],
      "execution_count": 4,
      "outputs": [
        {
          "output_type": "stream",
          "text": [
            "Go to this URL in a browser: https://accounts.google.com/o/oauth2/auth?client_id=947318989803-6bn6qk8qdgf4n4g3pfee6491hc0brc4i.apps.googleusercontent.com&redirect_uri=urn%3aietf%3awg%3aoauth%3a2.0%3aoob&response_type=code&scope=email%20https%3a%2f%2fwww.googleapis.com%2fauth%2fdocs.test%20https%3a%2f%2fwww.googleapis.com%2fauth%2fdrive%20https%3a%2f%2fwww.googleapis.com%2fauth%2fdrive.photos.readonly%20https%3a%2f%2fwww.googleapis.com%2fauth%2fpeopleapi.readonly\n",
            "\n",
            "Enter your authorization code:\n",
            "··········\n",
            "Mounted at /content/drive\n"
          ],
          "name": "stdout"
        }
      ]
    },
    {
      "cell_type": "markdown",
      "metadata": {
        "id": "XdQ4rwS2Wc0D",
        "colab_type": "text"
      },
      "source": [
        "Reading dataset and replacing null values with mean"
      ]
    },
    {
      "cell_type": "code",
      "metadata": {
        "id": "JJXevSmbWc0E",
        "colab_type": "code",
        "colab": {}
      },
      "source": [
        "data = pd.read_csv(\"/content/drive/My Drive/Python/ICP6/CC.csv\")\n",
        "X=data.iloc[:,1:]\n",
        "X = X.apply(lambda x: x.fillna(x.mean()),axis=0)\n"
      ],
      "execution_count": 5,
      "outputs": []
    },
    {
      "cell_type": "markdown",
      "metadata": {
        "id": "XmKrqg8XWc0H",
        "colab_type": "text"
      },
      "source": [
        "Applying Elbow method to determine K value"
      ]
    },
    {
      "cell_type": "code",
      "metadata": {
        "id": "37AQLCR4Wc0I",
        "colab_type": "code",
        "colab": {
          "base_uri": "https://localhost:8080/",
          "height": 295
        },
        "outputId": "dcd4303b-85c0-4b2e-e8c6-35f47221114d"
      },
      "source": [
        "inertias = []\n",
        "K = range(1,10)\n",
        "for k in K: \n",
        "    kmeanModel = KMeans(n_clusters=k,random_state=42) \n",
        "    kmeanModel.fit(X) \n",
        "    inertias.append(kmeanModel.inertia_)\n",
        "    \n",
        "plt.plot(range(1,10),inertias,'bx-')\n",
        "plt.title('Elbow method')\n",
        "plt.xlabel('Number of Clusters')\n",
        "plt.ylabel('Kmeans score')\n",
        "plt.show()"
      ],
      "execution_count": 6,
      "outputs": [
        {
          "output_type": "display_data",
          "data": {
            "image/png": "[encoded data removed]",
            "text/plain": [
              "<Figure size 432x288 with 1 Axes>"
            ]
          },
          "metadata": {
            "tags": [],
            "needs_background": "light"
          }
        }
      ]
    },
    {
      "cell_type": "markdown",
      "metadata": {
        "id": "Ndjx2ZSIWc0M",
        "colab_type": "text"
      },
      "source": [
        "Applying KMeans Clustering without scaling"
      ]
    },
    {
      "cell_type": "code",
      "metadata": {
        "id": "1ivInB3CWc0M",
        "colab_type": "code",
        "colab": {}
      },
      "source": [
        "nclusters = 3\n",
        "km = KMeans(n_clusters=nclusters)\n",
        "km.fit(X)\n",
        "y_cluster_kmeans = km.predict(X)"
      ],
      "execution_count": 7,
      "outputs": []
    },
    {
      "cell_type": "markdown",
      "metadata": {
        "id": "964pkOE9Wc0P",
        "colab_type": "text"
      },
      "source": [
        "Calculating Silhouette score"
      ]
    },
    {
      "cell_type": "code",
      "metadata": {
        "id": "1fXiqt5xWc0P",
        "colab_type": "code",
        "colab": {
          "base_uri": "https://localhost:8080/",
          "height": 34
        },
        "outputId": "5b578302-a692-4241-f363-60646f05d7de"
      },
      "source": [
        "\n",
        "score_beforescaling = metrics.silhouette_score(X, y_cluster_kmeans)\n",
        "print(\"score that occurs before scaling:\",score_beforescaling)"
      ],
      "execution_count": 8,
      "outputs": [
        {
          "output_type": "stream",
          "text": [
            "score before scaling is: 0.4654251280958053\n"
          ],
          "name": "stdout"
        }
      ]
    },
    {
      "cell_type": "markdown",
      "metadata": {
        "id": "77K-33R-Wc0S",
        "colab_type": "text"
      },
      "source": [
        "Applying feature scaling"
      ]
    },
    {
      "cell_type": "code",
      "metadata": {
        "id": "IVov7B-jWc0T",
        "colab_type": "code",
        "colab": {}
      },
      "source": [
        "from sklearn import preprocessing \n",
        "scaler =preprocessing.StandardScaler()\n",
        "scaler.fit(X)\n",
        "X_scaled_array=scaler.transform(X) \n",
        "X_scaled=pd.DataFrame(X_scaled_array)"
      ],
      "execution_count": 9,
      "outputs": []
    },
    {
      "cell_type": "markdown",
      "metadata": {
        "id": "Bxjy301TWc0W",
        "colab_type": "text"
      },
      "source": [
        "Applying KMeans after scaling"
      ]
    },
    {
      "cell_type": "code",
      "metadata": {
        "id": "YaSl-uAYWc0X",
        "colab_type": "code",
        "colab": {}
      },
      "source": [
        "\n",
        "nclusters = 3\n",
        "km = KMeans(n_clusters=nclusters,random_state=42)\n",
        "km.fit(X_scaled)\n",
        "y_cluster_kmeans = km.predict(X_scaled)"
      ],
      "execution_count": 10,
      "outputs": []
    },
    {
      "cell_type": "markdown",
      "metadata": {
        "id": "_LWmyKiCWc0a",
        "colab_type": "text"
      },
      "source": [
        "Calculating Silhouette score after scaling"
      ]
    },
    {
      "cell_type": "code",
      "metadata": {
        "id": "_0WDNhVhWc0b",
        "colab_type": "code",
        "colab": {
          "base_uri": "https://localhost:8080/",
          "height": 34
        },
        "outputId": "ad52fd19-a9e6-44c1-c965-0d3733feaf0d"
      },
      "source": [
        "score_afterscaling = metrics.silhouette_score(X_scaled, y_cluster_kmeans)\n",
        "print(\"score after scaling is done:\",score_afterscaling)"
      ],
      "execution_count": 11,
      "outputs": [
        {
          "output_type": "stream",
          "text": [
            "score after scaling is: 0.25059934300557285\n"
          ],
          "name": "stdout"
        }
      ]
    },
    {
      "cell_type": "markdown",
      "metadata": {
        "id": "AO5V_BtvWc0d",
        "colab_type": "text"
      },
      "source": [
        "Applying PCA"
      ]
    },
    {
      "cell_type": "code",
      "metadata": {
        "id": "ZeOMc02EWc0e",
        "colab_type": "code",
        "colab": {}
      },
      "source": [
        "from sklearn.decomposition import PCA\n",
        "pca= PCA(2) \n",
        "X_pca= pca.fit_transform(X)\n",
        "X_pca=pd.DataFrame(X_pca)\n",
        "finaldata = pd.concat([X_pca, data[['TENURE']]], axis=1)\n"
      ],
      "execution_count": 12,
      "outputs": []
    },
    {
      "cell_type": "markdown",
      "metadata": {
        "id": "ec6VZo7bWc0g",
        "colab_type": "text"
      },
      "source": [
        "Applying KMeans after PCA"
      ]
    },
    {
      "cell_type": "code",
      "metadata": {
        "id": "s0QQxAEIWc0h",
        "colab_type": "code",
        "colab": {
          "base_uri": "https://localhost:8080/",
          "height": 34
        },
        "outputId": "49d2f594-5b84-4eca-8293-ec5c5883a8e4"
      },
      "source": [
        "nclusters = 3\n",
        "km = KMeans(n_clusters=nclusters)\n",
        "km.fit(X_pca)\n",
        "# predict the cluster for each data point\n",
        "y_cluster_kmeans = km.predict(X_pca)\n",
        "score_pca = metrics.silhouette_score(X_pca, y_cluster_kmeans)\n",
        "print(\"PCA and Kmeans scores: \", score_pca)"
      ],
      "execution_count": 13,
      "outputs": [
        {
          "output_type": "stream",
          "text": [
            "Score with PCA and Kmeans:  0.5720003152910856\n"
          ],
          "name": "stdout"
        }
      ]
    },
    {
      "cell_type": "markdown",
      "metadata": {
        "id": "PEbJwDsOWc0l",
        "colab_type": "text"
      },
      "source": [
        "KMeans model after applying PCA on scaled data"
      ]
    },
    {
      "cell_type": "code",
      "metadata": {
        "id": "DqY6zDYWWc0l",
        "colab_type": "code",
        "colab": {}
      },
      "source": [
        "\n",
        "pca_scaled = PCA(2)\n",
        "X_pca_scaled= pca_scaled.fit_transform(X_scaled)\n",
        "kmeans_pca_scaled = KMeans(n_clusters=3)\n",
        "kmeans_pca_scaled.fit(X_pca_scaled)\n",
        "y_pca_kmeans_scaled = kmeans_pca_scaled.predict(X_pca_scaled)\n"
      ],
      "execution_count": 14,
      "outputs": []
    },
    {
      "cell_type": "markdown",
      "metadata": {
        "id": "rdw4ZUmQWc0o",
        "colab_type": "text"
      },
      "source": [
        "Calculating Silhouette score of applying PCA on scaled data"
      ]
    },
    {
      "cell_type": "code",
      "metadata": {
        "id": "Km0z2jp7Wc0o",
        "colab_type": "code",
        "colab": {
          "base_uri": "https://localhost:8080/",
          "height": 34
        },
        "outputId": "3b496890-f74a-476e-ed22-3f7065ea1305"
      },
      "source": [
        "pca_scaled_score = metrics.silhouette_score(X_pca_scaled, y_pca_kmeans_scaled)\n",
        "print(\"PCA and Kmeans scores: \", pca_scaled_score )"
      ],
      "execution_count": 15,
      "outputs": [
        {
          "output_type": "stream",
          "text": [
            "Score with PCA and Kmeans:  0.45232419861233447\n"
          ],
          "name": "stdout"
        }
      ]
    },
    {
      "cell_type": "markdown",
      "metadata": {
        "id": "_iNDppI0Wc0r",
        "colab_type": "text"
      },
      "source": [
        "Score comparisons"
      ]
    },
    {
      "cell_type": "code",
      "metadata": {
        "id": "C_SWWZXuWc0r",
        "colab_type": "code",
        "colab": {
          "base_uri": "https://localhost:8080/",
          "height": 85
        },
        "outputId": "27481a2c-cd56-4ae8-baa9-e7208b4a1740"
      },
      "source": [
        "print(\"score before scaling is:\",score_beforescaling)\n",
        "print(\"score after scaling is:\",score_afterscaling)\n",
        "print(\"Score with PCA and Kmeans: \", score_pca)\n",
        "print(\"Score with PCA and Kmeans: \", pca_scaled_score )"
      ],
      "execution_count": 16,
      "outputs": [
        {
          "output_type": "stream",
          "text": [
            "score before scaling is: 0.4654251280958053\n",
            "score after scaling is: 0.25059934300557285\n",
            "Score with PCA and Kmeans:  0.5720003152910856\n",
            "Score with PCA and Kmeans:  0.45232419861233447\n"
          ],
          "name": "stdout"
        }
      ]
    },
    {
      "cell_type": "markdown",
      "metadata": {
        "id": "Fa4jFwswWc0u",
        "colab_type": "text"
      },
      "source": [
        "Plotting clusters"
      ]
    },
    {
      "cell_type": "code",
      "metadata": {
        "id": "CBuY62V8Wc0u",
        "colab_type": "code",
        "colab": {
          "base_uri": "https://localhost:8080/",
          "height": 265
        },
        "outputId": "f221c4df-b123-4520-c2c6-a80c25d7e01e"
      },
      "source": [
        "\n",
        "colors=[\"red\",\"green\",\"blue\"]\n",
        "for i in range(3):\n",
        "    x_axis=X_pca_scaled[y_pca_kmeans_scaled == i][:, 0]\n",
        "    y_axis=X_pca_scaled[y_pca_kmeans_scaled == i][:,1]\n",
        "    plt.scatter(x_axis,y_axis,color=colors[i])"
      ],
      "execution_count": 17,
      "outputs": [
        {
          "output_type": "display_data",
          "data": {
            "image/png": "[encoded data removed]",
            "text/plain": [
              "<Figure size 432x288 with 1 Axes>"
            ]
          },
          "metadata": {
            "tags": [],
            "needs_background": "light"
          }
        }
      ]
    },
    {
      "cell_type": "code",
      "metadata": {
        "id": "Rw7peNtnWc0x",
        "colab_type": "code",
        "colab": {}
      },
      "source": [
        ""
      ],
      "execution_count": null,
      "outputs": []
    }
  ]
}