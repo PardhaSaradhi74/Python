{
  "nbformat": 4,
  "nbformat_minor": 0,
  "metadata": {
    "colab": {
      "name": "DLICP3.ipynb",
      "provenance": [],
      "collapsed_sections": [],
      "machine_shape": "hm",
      "include_colab_link": true
    },
    "kernelspec": {
      "name": "python3",
      "display_name": "Python 3"
    },
    "accelerator": "GPU"
  },
  "cells": [
    {
      "cell_type": "markdown",
      "metadata": {
        "id": "view-in-github",
        "colab_type": "text"
      },
      "source": [
        "<a href=\"https://colab.research.google.com/github/PardhaSaradhi74/Python/blob/master/DLICP3.ipynb\" target=\"_parent\"><img src=\"https://colab.research.google.com/assets/colab-badge.svg\" alt=\"Open In Colab\"/></a>"
      ]
    },
    {
      "cell_type": "code",
      "metadata": {
        "id": "YCGsF9irW4Cz",
        "colab_type": "code",
        "colab": {
          "base_uri": "https://localhost:8080/",
          "height": 52
        },
        "outputId": "f550f8c4-0521-4883-c896-0975cd79bd83"
      },
      "source": [
        "%tensorflow_version 1.x\n",
        "from keras.models import Sequential\n",
        "from keras import layers\n",
        "from keras.preprocessing.text import Tokenizer\n",
        "import pandas as pd\n",
        "from sklearn import preprocessing\n",
        "from sklearn.model_selection import train_test_split"
      ],
      "execution_count": 1,
      "outputs": [
        {
          "output_type": "stream",
          "text": [
            "TensorFlow 1.x selected.\n"
          ],
          "name": "stdout"
        },
        {
          "output_type": "stream",
          "text": [
            "Using TensorFlow backend.\n"
          ],
          "name": "stderr"
        }
      ]
    },
    {
      "cell_type": "code",
      "metadata": {
        "id": "cv8xbHL20EaG",
        "colab_type": "code",
        "colab": {
          "base_uri": "https://localhost:8080/",
          "height": 125
        },
        "outputId": "7f3d96f1-28c1-4f68-c19f-639f2211b93a"
      },
      "source": [
        "from google.colab import drive\n",
        "drive.mount('/content/drive')"
      ],
      "execution_count": 2,
      "outputs": [
        {
          "output_type": "stream",
          "text": [
            "Go to this URL in a browser: https://accounts.google.com/o/oauth2/auth?client_id=947318989803-6bn6qk8qdgf4n4g3pfee6491hc0brc4i.apps.googleusercontent.com&redirect_uri=urn%3aietf%3awg%3aoauth%3a2.0%3aoob&response_type=code&scope=email%20https%3a%2f%2fwww.googleapis.com%2fauth%2fdocs.test%20https%3a%2f%2fwww.googleapis.com%2fauth%2fdrive%20https%3a%2f%2fwww.googleapis.com%2fauth%2fdrive.photos.readonly%20https%3a%2f%2fwww.googleapis.com%2fauth%2fpeopleapi.readonly\n",
            "\n",
            "Enter your authorization code:\n",
            "··········\n",
            "Mounted at /content/drive\n"
          ],
          "name": "stdout"
        }
      ]
    },
    {
      "cell_type": "code",
      "metadata": {
        "id": "MNaC3jEBW9dw",
        "colab_type": "code",
        "colab": {
          "base_uri": "https://localhost:8080/",
          "height": 158
        },
        "outputId": "f6f4ce66-621c-48ca-9089-96699bd06ec1"
      },
      "source": [
        "df = pd.read_csv(\"drive/My Drive/imdb_master[1].csv\",encoding='latin-1')\n",
        "print(df.head())\n",
        "sentences = df['review'].values\n",
        "pureSentences = sentences\n",
        "y = df['label'].values\n"
      ],
      "execution_count": 3,
      "outputs": [
        {
          "output_type": "stream",
          "text": [
            "   Unnamed: 0  type  ... label         file\n",
            "0           0  test  ...   neg      0_2.txt\n",
            "1           1  test  ...   neg  10000_4.txt\n",
            "2           2  test  ...   neg  10001_1.txt\n",
            "3           3  test  ...   neg  10002_3.txt\n",
            "4           4  test  ...   neg  10003_3.txt\n",
            "\n",
            "[5 rows x 5 columns]\n"
          ],
          "name": "stdout"
        }
      ]
    },
    {
      "cell_type": "markdown",
      "metadata": {
        "id": "Df6hooweXBJo",
        "colab_type": "text"
      },
      "source": [
        "tokenizing data"
      ]
    },
    {
      "cell_type": "code",
      "metadata": {
        "id": "PSUceLgkW-wI",
        "colab_type": "code",
        "colab": {}
      },
      "source": [
        "tokenizer = Tokenizer(num_words=2000)\n",
        "tokenizer.fit_on_texts(sentences)"
      ],
      "execution_count": 4,
      "outputs": []
    },
    {
      "cell_type": "markdown",
      "metadata": {
        "id": "pR78DrA6XD48",
        "colab_type": "text"
      },
      "source": [
        "getting the vocabulary of data\n"
      ]
    },
    {
      "cell_type": "code",
      "metadata": {
        "id": "pWy9t9pLXFki",
        "colab_type": "code",
        "colab": {}
      },
      "source": [
        "sentences = tokenizer.texts_to_matrix(sentences)"
      ],
      "execution_count": 5,
      "outputs": []
    },
    {
      "cell_type": "code",
      "metadata": {
        "id": "OuJJ6l52XHTw",
        "colab_type": "code",
        "colab": {
          "base_uri": "https://localhost:8080/",
          "height": 34
        },
        "outputId": "d6888607-6d02-412f-f09d-1ecde975cf3e"
      },
      "source": [
        "import numpy as np\n",
        "le = preprocessing.LabelEncoder()\n",
        "y = le.fit_transform(y)\n",
        "X_train, X_test, y_train, y_test = train_test_split(sentences, y, test_size=0.25, random_state=1000)\n",
        "input_dim=np.prod(X_train.shape[1:])\n",
        "print(input_dim)"
      ],
      "execution_count": 6,
      "outputs": [
        {
          "output_type": "stream",
          "text": [
            "2000\n"
          ],
          "name": "stdout"
        }
      ]
    },
    {
      "cell_type": "code",
      "metadata": {
        "id": "mjtDdbEYvTbb",
        "colab_type": "code",
        "colab": {
          "base_uri": "https://localhost:8080/",
          "height": 321
        },
        "outputId": "c2934162-e740-4484-bd7d-d445bcc3b58e"
      },
      "source": [
        "model = Sequential()\n",
        "model.add(layers.Dense(300, activation='relu',input_dim=input_dim))\n",
        "model.add(layers.Dense(3, activation='softmax'))\n",
        "model.compile(loss='sparse_categorical_crossentropy',optimizer='adam',metrics=['acc'])\n",
        "history=model.fit(X_train,y_train, epochs=5, verbose=True, validation_data=(X_test,y_test), batch_size=256)"
      ],
      "execution_count": 7,
      "outputs": [
        {
          "output_type": "stream",
          "text": [
            "WARNING:tensorflow:From /tensorflow-1.15.2/python3.6/tensorflow_core/python/ops/resource_variable_ops.py:1630: calling BaseResourceVariable.__init__ (from tensorflow.python.ops.resource_variable_ops) with constraint is deprecated and will be removed in a future version.\n",
            "Instructions for updating:\n",
            "If using Keras pass *_constraint arguments to layers.\n",
            "WARNING:tensorflow:From /usr/local/lib/python3.6/dist-packages/keras/backend/tensorflow_backend.py:422: The name tf.global_variables is deprecated. Please use tf.compat.v1.global_variables instead.\n",
            "\n",
            "Train on 75000 samples, validate on 25000 samples\n",
            "Epoch 1/5\n",
            "75000/75000 [==============================] - 3s 42us/step - loss: 0.8825 - acc: 0.5043 - val_loss: 0.8467 - val_acc: 0.5121\n",
            "Epoch 2/5\n",
            "75000/75000 [==============================] - 1s 19us/step - loss: 0.7923 - acc: 0.5751 - val_loss: 0.8436 - val_acc: 0.5133\n",
            "Epoch 3/5\n",
            "75000/75000 [==============================] - 1s 19us/step - loss: 0.6891 - acc: 0.6794 - val_loss: 0.8686 - val_acc: 0.5153\n",
            "Epoch 4/5\n",
            "75000/75000 [==============================] - 1s 19us/step - loss: 0.4997 - acc: 0.8131 - val_loss: 0.9482 - val_acc: 0.5106\n",
            "Epoch 5/5\n",
            "75000/75000 [==============================] - 1s 19us/step - loss: 0.2883 - acc: 0.9261 - val_loss: 1.0671 - val_acc: 0.5160\n"
          ],
          "name": "stdout"
        }
      ]
    },
    {
      "cell_type": "code",
      "metadata": {
        "id": "6_j1FUH__0RM",
        "colab_type": "code",
        "colab": {
          "base_uri": "https://localhost:8080/",
          "height": 52
        },
        "outputId": "37253da0-8c32-4f14-ac21-499a168b5e3b"
      },
      "source": [
        "from keras.preprocessing.sequence import pad_sequences\n",
        "max_review_len= max([len(s.split()) for s in pureSentences])\n",
        "vocab_size= len(tokenizer.word_index)+1\n",
        "sentencesPre = tokenizer.texts_to_sequences(pureSentences)\n",
        "padded_docs= pad_sequences(sentencesPre,maxlen=max_review_len)\n",
        "le = preprocessing.LabelEncoder()\n",
        "y = le.fit_transform(y)\n",
        "X_train, X_test, y_train, y_test = train_test_split(padded_docs, y, test_size=0.25, random_state=1000)\n",
        "print(vocab_size)\n",
        "print(max_review_len)\n"
      ],
      "execution_count": 8,
      "outputs": [
        {
          "output_type": "stream",
          "text": [
            "176408\n",
            "2470\n"
          ],
          "name": "stdout"
        }
      ]
    },
    {
      "cell_type": "code",
      "metadata": {
        "id": "h7jl0ofF_-kz",
        "colab_type": "code",
        "colab": {}
      },
      "source": [
        "# from keras.layers import Embedding\n",
        "# X_train.shape\n"
      ],
      "execution_count": null,
      "outputs": []
    },
    {
      "cell_type": "code",
      "metadata": {
        "id": "8TSEKExP_6xD",
        "colab_type": "code",
        "colab": {}
      },
      "source": [
        "from keras.layers import Embedding, Flatten\n",
        "m = Sequential()\n",
        "m.add(Embedding(vocab_size, 50, input_length=max_review_len))\n",
        "m.add(Flatten())\n",
        "m.add(layers.Dense(300, activation='relu',input_dim=max_review_len))\n",
        "m.add(layers.Dense(3, activation='softmax'))\n",
        "m.compile(loss='sparse_categorical_crossentropy',optimizer='adam',metrics=['acc'])"
      ],
      "execution_count": 9,
      "outputs": []
    },
    {
      "cell_type": "code",
      "metadata": {
        "id": "HGpcm3BIXNmL",
        "colab_type": "code",
        "colab": {
          "base_uri": "https://localhost:8080/",
          "height": 212
        },
        "outputId": "eb904e48-14b4-4049-b8ac-155be79dcc7b"
      },
      "source": [
        "history1=m.fit(X_train,y_train, epochs=5, verbose=True, validation_data=(X_test,y_test), batch_size=256)"
      ],
      "execution_count": 10,
      "outputs": [
        {
          "output_type": "stream",
          "text": [
            "Train on 75000 samples, validate on 25000 samples\n",
            "Epoch 1/5\n",
            "75000/75000 [==============================] - 16s 208us/step - loss: 1.0084 - acc: 0.4919 - val_loss: 0.8649 - val_acc: 0.5052\n",
            "Epoch 2/5\n",
            "75000/75000 [==============================] - 15s 206us/step - loss: 0.8198 - acc: 0.5476 - val_loss: 0.8552 - val_acc: 0.5053\n",
            "Epoch 3/5\n",
            "75000/75000 [==============================] - 15s 206us/step - loss: 0.7158 - acc: 0.6443 - val_loss: 0.9029 - val_acc: 0.5003\n",
            "Epoch 4/5\n",
            "75000/75000 [==============================] - 15s 207us/step - loss: 0.5617 - acc: 0.7513 - val_loss: 1.0304 - val_acc: 0.4900\n",
            "Epoch 5/5\n",
            "75000/75000 [==============================] - 15s 206us/step - loss: 0.4124 - acc: 0.8325 - val_loss: 1.2188 - val_acc: 0.4815\n"
          ],
          "name": "stdout"
        }
      ]
    },
    {
      "cell_type": "code",
      "metadata": {
        "id": "20zPuhA3tDmI",
        "colab_type": "code",
        "colab": {
          "base_uri": "https://localhost:8080/",
          "height": 294
        },
        "outputId": "468978e9-df66-4441-bf06-2aaa45ab46d3"
      },
      "source": [
        "import matplotlib.pyplot as plt\n",
        "plt.plot(history.history['acc'])\n",
        "plt.plot(history.history['val_acc'])\n",
        "plt.plot(history.history['loss'])\n",
        "plt.plot(history.history['val_loss'])\n",
        "plt.title('model accuracy')\n",
        "plt.ylabel('accuracy')\n",
        "plt.xlabel('epoch')\n",
        "plt.legend(['accuray', 'validation accuracy','loss','val_loss'], loc='upper left')\n",
        "plt.show()"
      ],
      "execution_count": 11,
      "outputs": [
        {
          "output_type": "display_data",
          "data": {
            "image/png": "[encoded data removed]",
            "text/plain": [
              "<Figure size 432x288 with 1 Axes>"
            ]
          },
          "metadata": {
            "tags": [],
            "needs_background": "light"
          }
        }
      ]
    },
    {
      "cell_type": "code",
      "metadata": {
        "id": "WSoVgtuLwIfv",
        "colab_type": "code",
        "colab": {
          "base_uri": "https://localhost:8080/",
          "height": 52
        },
        "outputId": "9eba8d52-1abf-4231-e45e-d57e9eea124a"
      },
      "source": [
        "from sklearn.datasets import fetch_20newsgroups\n",
        "twenty_train = fetch_20newsgroups(subset='train', shuffle=True)\n"
      ],
      "execution_count": 12,
      "outputs": [
        {
          "output_type": "stream",
          "text": [
            "Downloading 20news dataset. This may take a few minutes.\n",
            "Downloading dataset from https://ndownloader.figshare.com/files/5975967 (14 MB)\n"
          ],
          "name": "stderr"
        }
      ]
    },
    {
      "cell_type": "code",
      "metadata": {
        "id": "EeGiNJ9ywYtz",
        "colab_type": "code",
        "colab": {}
      },
      "source": [
        "sentences= twenty_train.data\n",
        "y=twenty_train.target"
      ],
      "execution_count": 13,
      "outputs": []
    },
    {
      "cell_type": "code",
      "metadata": {
        "id": "PlbCGc81wiMv",
        "colab_type": "code",
        "colab": {}
      },
      "source": [
        "from keras.preprocessing.sequence import pad_sequences\n",
        "max_review_len= max([len(s.split()) for s in sentences])\n",
        "vocab_size= len(tokenizer.word_index)+1\n",
        "sentencesPre = tokenizer.texts_to_sequences(sentences)\n",
        "padded_docs= pad_sequences(sentencesPre,maxlen=max_review_len)\n",
        "X_train, X_test, y_train, y_test = train_test_split(padded_docs, y, test_size=0.25, random_state=1000)\n"
      ],
      "execution_count": 14,
      "outputs": []
    },
    {
      "cell_type": "code",
      "metadata": {
        "id": "UsWHBAp0xEhx",
        "colab_type": "code",
        "colab": {}
      },
      "source": [
        "from keras.layers import Embedding, Flatten\n",
        "n = Sequential()\n",
        "n.add(Embedding(vocab_size, 50, input_length=max_review_len))\n",
        "n.add(Flatten())\n",
        "n.add(layers.Dense(300, activation='relu',input_dim=max_review_len))\n",
        "n.add(layers.Dense(20, activation='softmax'))\n",
        "n.compile(loss='sparse_categorical_crossentropy',optimizer='adam',metrics=['acc'])"
      ],
      "execution_count": 15,
      "outputs": []
    },
    {
      "cell_type": "code",
      "metadata": {
        "id": "DHpJueHaxOR-",
        "colab_type": "code",
        "colab": {
          "base_uri": "https://localhost:8080/",
          "height": 212
        },
        "outputId": "135d585a-f1b5-4ce0-a68b-a99126405aa6"
      },
      "source": [
        "h2=n.fit(X_train,y_train, epochs=5, verbose=True, validation_data=(X_test,y_test), batch_size=256)"
      ],
      "execution_count": 16,
      "outputs": [
        {
          "output_type": "stream",
          "text": [
            "Train on 8485 samples, validate on 2829 samples\n",
            "Epoch 1/5\n",
            "8485/8485 [==============================] - 8s 990us/step - loss: 12.4298 - acc: 0.0565 - val_loss: 3.0233 - val_acc: 0.0657\n",
            "Epoch 2/5\n",
            "8485/8485 [==============================] - 8s 975us/step - loss: 3.0063 - acc: 0.0575 - val_loss: 3.0017 - val_acc: 0.0399\n",
            "Epoch 3/5\n",
            "8485/8485 [==============================] - 8s 976us/step - loss: 2.9803 - acc: 0.0527 - val_loss: 2.9956 - val_acc: 0.0495\n",
            "Epoch 4/5\n",
            "8485/8485 [==============================] - 8s 977us/step - loss: 2.9790 - acc: 0.0566 - val_loss: 2.9933 - val_acc: 0.0530\n",
            "Epoch 5/5\n",
            "8485/8485 [==============================] - 8s 975us/step - loss: 2.9765 - acc: 0.0585 - val_loss: 2.9953 - val_acc: 0.0537\n"
          ],
          "name": "stdout"
        }
      ]
    },
    {
      "cell_type": "code",
      "metadata": {
        "id": "yS0MCi7G5ZQz",
        "colab_type": "code",
        "colab": {}
      },
      "source": [
        "x=n.predict_classes(X_test[[8],:])"
      ],
      "execution_count": 33,
      "outputs": []
    },
    {
      "cell_type": "code",
      "metadata": {
        "id": "f4fvxjcy5jhz",
        "colab_type": "code",
        "colab": {
          "base_uri": "https://localhost:8080/",
          "height": 34
        },
        "outputId": "18b2bc3b-6dd8-4d44-92db-fbcf5c6e681c"
      },
      "source": [
        "print(\"Actual Prediction\",y_test[8],\"Predicted Prediction\",x)"
      ],
      "execution_count": 34,
      "outputs": [
        {
          "output_type": "stream",
          "text": [
            "Actual Prediction 11 Predicted Prediction [11]\n"
          ],
          "name": "stdout"
        }
      ]
    },
    {
      "cell_type": "code",
      "metadata": {
        "id": "AMnFxY595_xF",
        "colab_type": "code",
        "colab": {}
      },
      "source": [
        "from time import time\n",
        "from keras.callbacks import TensorBoard\n",
        "tensorboard = TensorBoard(log_dir=\"/content/drive/My Drive/Colab Notebooks/logs/{}\".format(time()))\n",
        "model.fit(X_train,y_train,verbose=1,callbacks=[tensorboard], epochs=5)"
      ],
      "execution_count": null,
      "outputs": []
    }
  ]
}